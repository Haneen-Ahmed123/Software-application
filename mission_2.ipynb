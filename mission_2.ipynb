{
  "nbformat": 4,
  "nbformat_minor": 0,
  "metadata": {
    "colab": {
      "private_outputs": true,
      "provenance": []
    },
    "kernelspec": {
      "name": "python3",
      "display_name": "Python 3"
    },
    "language_info": {
      "name": "python"
    }
  },
  "cells": [
    {
      "cell_type": "code",
      "execution_count": null,
      "metadata": {
        "id": "Nq4yIXcYcIDQ"
      },
      "outputs": [],
      "source": [
        "import pandas as pd\n",
        "import numpy as np\n",
        "from sklearn.preprocessing import LabelEncoder,MinMaxScaler,OneHotEncoder\n",
        "from sklearn.model_selection import train_test_split\n",
        "from sklearn.linear_model import LinearRegression\n",
        "from sklearn.metrics import accuracy_score,confusion_matrix,classification_report\n",
        "import seaborn as sns\n",
        "import matplotlib.pyplot as plt\n",
        "from sklearn.ensemble import RandomForestClassifier\n",
        "from sklearn.tree import DecisionTreeRegressor\n",
        "from sklearn.metrics import mean_squared_error,mean_absolute_error,r2_score\n",
        "from sklearn.model_selection import GridSearchCV,RandomizedSearchCV"
      ]
    },
    {
      "cell_type": "code",
      "source": [
        "data=pd.read_csv(\"/content/mission 2.csv\")\n",
        "data"
      ],
      "metadata": {
        "id": "hfWRsfvFclj7"
      },
      "execution_count": null,
      "outputs": []
    },
    {
      "cell_type": "code",
      "source": [
        "data.head(10)"
      ],
      "metadata": {
        "id": "R37AkyLjculQ"
      },
      "execution_count": null,
      "outputs": []
    },
    {
      "cell_type": "code",
      "source": [
        "data.info()"
      ],
      "metadata": {
        "id": "h7qsxcyScyXV"
      },
      "execution_count": null,
      "outputs": []
    },
    {
      "cell_type": "code",
      "source": [
        "data.isnull().sum()"
      ],
      "metadata": {
        "id": "KugKAluKc9mR"
      },
      "execution_count": null,
      "outputs": []
    },
    {
      "cell_type": "code",
      "source": [
        "data.drop_duplicates()"
      ],
      "metadata": {
        "id": "O2FKdREAeu7s"
      },
      "execution_count": null,
      "outputs": []
    },
    {
      "cell_type": "code",
      "source": [
        "data.describe()"
      ],
      "metadata": {
        "id": "3idUUOeGe5wo"
      },
      "execution_count": null,
      "outputs": []
    },
    {
      "cell_type": "code",
      "source": [
        "lr=LabelEncoder()\n",
        "data['Location']=lr.fit_transform(data['Location'])"
      ],
      "metadata": {
        "id": "zd8LIbVJe9qI"
      },
      "execution_count": null,
      "outputs": []
    },
    {
      "cell_type": "code",
      "source": [
        "data.head()"
      ],
      "metadata": {
        "id": "VjcMChoBfOqe"
      },
      "execution_count": null,
      "outputs": []
    },
    {
      "cell_type": "code",
      "source": [
        "data.columns"
      ],
      "metadata": {
        "id": "8zT5CR-ffcc0"
      },
      "execution_count": null,
      "outputs": []
    },
    {
      "cell_type": "code",
      "source": [
        "min=MinMaxScaler()\n",
        "data[['Size (sqft)', 'Bedrooms', 'Bathrooms', 'Year Built','Condition']]=min.fit_transform(data[['Size (sqft)', 'Bedrooms', 'Bathrooms', 'Year Built','Condition']])"
      ],
      "metadata": {
        "id": "b6cFBWYifSC4"
      },
      "execution_count": null,
      "outputs": []
    },
    {
      "cell_type": "code",
      "source": [
        "x=data.drop('Price',axis=1)\n",
        "y=data['Price']"
      ],
      "metadata": {
        "id": "0vjZGM6_fzus"
      },
      "execution_count": null,
      "outputs": []
    },
    {
      "cell_type": "code",
      "source": [
        "x_train,x_test,y_train,y_test=train_test_split(x,y,test_size=0.2,random_state=42)"
      ],
      "metadata": {
        "id": "jv-mPWAorLP1"
      },
      "execution_count": null,
      "outputs": []
    },
    {
      "cell_type": "code",
      "source": [
        "x_train"
      ],
      "metadata": {
        "id": "SPo40LQPrwGs"
      },
      "execution_count": null,
      "outputs": []
    },
    {
      "cell_type": "code",
      "source": [
        "y_test"
      ],
      "metadata": {
        "id": "NfFXx4D0ry16"
      },
      "execution_count": null,
      "outputs": []
    },
    {
      "cell_type": "code",
      "source": [
        "model=LinearRegression()\n",
        "model.fit(x_train,y_train)\n",
        "y_pred_model=model.predict(x_test)\n",
        "print(mean_absolute_error(y_test,y_pred_model))\n",
        "print(mean_squared_error(y_test,y_pred_model))\n",
        "print(r2_score(y_test,y_pred_model))"
      ],
      "metadata": {
        "id": "75wTHBBNr3xg"
      },
      "execution_count": null,
      "outputs": []
    },
    {
      "cell_type": "code",
      "source": [
        "model_Dt=DecisionTreeRegressor()\n",
        "model_Dt.fit(x_train,y_train)\n",
        "y_pred_Dt=model_Dt.predict(x_test)\n",
        "print(mean_squared_error(y_test,y_pred_Dt))\n",
        "print(mean_absolute_error(y_test,y_pred_Dt))\n",
        "print(r2_score(y_test,y_pred_Dt))"
      ],
      "metadata": {
        "id": "CuplcL8xsZHF"
      },
      "execution_count": null,
      "outputs": []
    },
    {
      "cell_type": "code",
      "source": [
        "model_rf=RandomForestClassifier()\n",
        "model_rf.fit(x_train,y_train)\n",
        "y_pred_rf=model_rf.predict(x_test)\n",
        "print(mean_absolute_error(y_test,y_pred_rf))\n",
        "print(mean_squared_error(y_test,y_pred_Dt))\n",
        "print(r2_score(y_test,y_pred_rf))\n"
      ],
      "metadata": {
        "id": "c3sMAvRKtf5C"
      },
      "execution_count": null,
      "outputs": []
    },
    {
      "cell_type": "code",
      "source": [
        "plt.figure(figsize=(10,6))\n",
        "sns.histplot(data['Price'],bins=20,kde=True,color='blue')\n",
        "plt.title(\"relation between target and feature\")\n",
        "plt.xlabel('Price')\n",
        "plt.ylabel('Frequency')\n",
        "plt.show()"
      ],
      "metadata": {
        "id": "RfKaRzqgttlW"
      },
      "execution_count": null,
      "outputs": []
    },
    {
      "cell_type": "code",
      "source": [
        "plt.figure(figsize=(10,8))\n",
        "sns.scatterplot(x='Size (sqft)',y='Price',data=data,color='red')\n",
        "plt.title(\"relation between two colomn\")\n",
        "plt.xlabel('Size (sqft)')\n",
        "plt.ylabel('Price')\n",
        "plt.show()"
      ],
      "metadata": {
        "id": "4wBc8tNO0e8T"
      },
      "execution_count": null,
      "outputs": []
    },
    {
      "cell_type": "code",
      "source": [
        "plt.figure(figsize=(16,8))\n",
        "sns.barplot(x=\"Bedrooms\",y=\"Price\",data=data,color='green')\n",
        "plt.title(\"relation\")\n",
        "plt.xlabel('Bedrooms')\n",
        "plt.ylabel('Price')\n",
        "plt.show()"
      ],
      "metadata": {
        "id": "-XZFsGye1yKi"
      },
      "execution_count": null,
      "outputs": []
    },
    {
      "cell_type": "code",
      "source": [
        "plt.figure(figsize=(10,6))\n",
        "sns.scatterplot(x=y_test,y=y_pred_model,color='blue',label='Linear model')\n",
        "plt.title(\"hello\")\n",
        "plt.xlabel('y_test')\n",
        "plt.ylabel('y_pred_model')\n",
        "plt.show()"
      ],
      "metadata": {
        "id": "Y4r_rRxT51BM"
      },
      "execution_count": null,
      "outputs": []
    },
    {
      "cell_type": "code",
      "source": [
        "plt.figure(figsize=(10,6))\n",
        "sns.scatterplot(x=y_test,y=y_pred_Dt,color='blue',label='DesissionTree')\n",
        "plt.title(\"hello\")\n",
        "plt.xlabel('y_test')\n",
        "plt.ylabel('y_pred_model')\n",
        "plt.show()"
      ],
      "metadata": {
        "id": "FFQosPmW780F"
      },
      "execution_count": null,
      "outputs": []
    },
    {
      "cell_type": "code",
      "source": [
        "plt.figure(figsize=(10,6))\n",
        "sns.scatterplot(x=y_test,y=y_pred_rf,color='blue',label='randomForest')\n",
        "plt.title(\"hello\")\n",
        "plt.xlabel('y_test')\n",
        "plt.ylabel('y_pred_model')\n",
        "plt.show()"
      ],
      "metadata": {
        "id": "T9aGVQZIBb31"
      },
      "execution_count": null,
      "outputs": []
    },
    {
      "cell_type": "code",
      "source": [
        "dt_params={'max_depth':[3,5,6]}\n",
        "grid_model=GridSearchCV(DecisionTreeRegressor(),dt_params,cv=5)\n",
        "grid_model.fit(x_train,y_train)\n",
        "print(grid_model.best_params_)"
      ],
      "metadata": {
        "id": "EBSGM9dzB2II"
      },
      "execution_count": null,
      "outputs": []
    },
    {
      "cell_type": "code",
      "source": [
        "y_pred_grid=grid_model.best_estimator_.predict(x_test)\n",
        "print(mean_absolute_error(y_test,y_pred_grid))"
      ],
      "metadata": {
        "id": "5qlfwVEzDaL5"
      },
      "execution_count": null,
      "outputs": []
    },
    {
      "cell_type": "code",
      "source": [
        "dt_params={'max_depth':[10,15,16]}\n",
        "random_model=RandomizedSearchCV(RandomForestClassifier(),dt_params,cv=5)\n",
        "random_model.fit(x_train,y_train)\n",
        "print(random_model.best_params_)"
      ],
      "metadata": {
        "id": "y6suTl3bFwlP"
      },
      "execution_count": null,
      "outputs": []
    },
    {
      "cell_type": "code",
      "source": [
        "y_pred_rand=random_model.best_estimator_.predict(x_test)\n",
        "print(mean_absolute_error(y_test,y_pred_rand))"
      ],
      "metadata": {
        "id": "UPCJqOlgGoyM"
      },
      "execution_count": null,
      "outputs": []
    },
    {
      "cell_type": "code",
      "source": [
        "!pip install gradio\n"
      ],
      "metadata": {
        "id": "oaj1zpUyHD71"
      },
      "execution_count": null,
      "outputs": []
    },
    {
      "cell_type": "code",
      "source": [
        "data.head()"
      ],
      "metadata": {
        "id": "L-fy52zQHfI3"
      },
      "execution_count": null,
      "outputs": []
    },
    {
      "cell_type": "code",
      "source": [
        "data.columns"
      ],
      "metadata": {
        "id": "Vkyc5QZxJ1JT"
      },
      "execution_count": null,
      "outputs": []
    },
    {
      "cell_type": "code",
      "source": [
        "import pandas as pd\n",
        "\n",
        "import gradio as gr\n",
        "def haneen(Location,Size,Bedrooms,Bathrooms,Year_Built,Condition):\n",
        "  try:\n",
        "    input_data=pd.DataFrame({\n",
        "        'Location':[Location],\n",
        "        'Size (sqft)':[Size],\n",
        "        'Bedrooms':[Bedrooms],\n",
        "        'Bathrooms':[Bathrooms],\n",
        "        'Year Built':[Year_Built],\n",
        "        'Condition':[Condition]\n",
        "    })\n",
        "    input_data[\"Location\"]=lr.transform(input_data[\"Location\"])\n",
        "    input_data[['Size (sqft)', 'Bedrooms', 'Bathrooms', 'Year Built','Condition']]=min.transform(input_data[['Size (sqft)', 'Bedrooms', 'Bathrooms', 'Year Built','Condition']])\n",
        "    predict=model_rf.predict(x_test)\n",
        "    return f\"predict house:{predict[0]:,.2f}\"\n",
        "\n",
        "  except Exception as e:\n",
        "    return str(e)\n",
        "\n",
        "gr.Interface(\n",
        "    fn=haneen,\n",
        "    inputs=[\n",
        "        gr.Dropdown(\n",
        "            [\"Urban\",\"Suburban\",\"Rural\"],label='Location'),\n",
        "        gr.Number(label='Size (sqft)'),\n",
        "        gr.Number(label='Bedrooms'),\n",
        "        gr.Number(label='Bathrooms'),\n",
        "        gr.Number(label='Year Built'),\n",
        "        gr.Number(label='Condition(1-5)')\n",
        "\n",
        "    ],\n",
        "    outputs=\"text\",\n",
        "    title=\"hello\"\n",
        "\n",
        ").launch()\n"
      ],
      "metadata": {
        "id": "hTCkXcgVHRL0"
      },
      "execution_count": null,
      "outputs": []
    },
    {
      "cell_type": "code",
      "source": [],
      "metadata": {
        "id": "rFLbVTlMM4Rs"
      },
      "execution_count": null,
      "outputs": []
    }
  ]
}