{
  "nbformat": 4,
  "nbformat_minor": 0,
  "metadata": {
    "colab": {
      "private_outputs": true,
      "provenance": []
    },
    "kernelspec": {
      "name": "python3",
      "display_name": "Python 3"
    },
    "language_info": {
      "name": "python"
    }
  },
  "cells": [
    {
      "cell_type": "code",
      "execution_count": null,
      "metadata": {
        "id": "FpM29HlOA06p"
      },
      "outputs": [],
      "source": [
        "import pandas as pd\n",
        "import numpy as np\n",
        "import matplotlib.pyplot as plt\n",
        "from sklearn.preprocessing import LabelEncoder,MinMaxScaler\n",
        "from sklearn.linear_model import LinearRegression\n",
        "from sklearn.model_selection import train_test_split\n",
        "from sklearn.tree import DecisionTreeRegressor\n",
        "from sklearn.ensemble import RandomForestRegressor\n",
        "from sklearn.model_selection import train_test_split\n",
        "import seaborn as sns\n",
        "from sklearn.metrics import mean_absolute_error as MAE,mean_squared_error as MSE,r2_score as R2\n",
        "from sklearn.model_selection import GridSearchCV,RandomizedSearchCV\n",
        "import joblib\n"
      ]
    },
    {
      "cell_type": "code",
      "source": [
        "data=pd.read_csv(\"/content/mission1_data (1).csv\")\n",
        "data"
      ],
      "metadata": {
        "id": "QkFL1UfQCJLN"
      },
      "execution_count": null,
      "outputs": []
    },
    {
      "cell_type": "code",
      "source": [
        "data.head()"
      ],
      "metadata": {
        "id": "vFbZCDqJLgT-"
      },
      "execution_count": null,
      "outputs": []
    },
    {
      "cell_type": "code",
      "source": [
        "data.info()"
      ],
      "metadata": {
        "id": "HwQfwo1iLi2T"
      },
      "execution_count": null,
      "outputs": []
    },
    {
      "cell_type": "code",
      "source": [
        "data.isnull().sum()"
      ],
      "metadata": {
        "id": "7Zgg7RY2YuWd"
      },
      "execution_count": null,
      "outputs": []
    },
    {
      "cell_type": "code",
      "source": [
        "data[\"Test Preparation Course\"].fillna(\"Nat complete\",inplace=True)"
      ],
      "metadata": {
        "id": "gbMdv7FFY0P-"
      },
      "execution_count": null,
      "outputs": []
    },
    {
      "cell_type": "code",
      "source": [
        "data.isnull().sum()"
      ],
      "metadata": {
        "id": "lYjf-dY-YyXl"
      },
      "execution_count": null,
      "outputs": []
    },
    {
      "cell_type": "code",
      "source": [
        "data.head()"
      ],
      "metadata": {
        "id": "-zdFYwzTZ26R"
      },
      "execution_count": null,
      "outputs": []
    },
    {
      "cell_type": "code",
      "source": [
        "data[\"Exam_score\"]=data[\"Math Score\"]+data[\"Reading Score\"]+data[\"Writing Score\"]"
      ],
      "metadata": {
        "id": "L-U760FeZiZg"
      },
      "execution_count": null,
      "outputs": []
    },
    {
      "cell_type": "code",
      "source": [
        "data.head()"
      ],
      "metadata": {
        "id": "YJKoquwYaBXC"
      },
      "execution_count": null,
      "outputs": []
    },
    {
      "cell_type": "code",
      "source": [
        "data.drop([\"Math Score\",\"Reading Score\",\"Writing Score\"],axis=1,inplace=True)"
      ],
      "metadata": {
        "id": "KGLYMoeCaE29"
      },
      "execution_count": null,
      "outputs": []
    },
    {
      "cell_type": "code",
      "source": [
        "data.head()"
      ],
      "metadata": {
        "id": "zbzWYOgiaaD8"
      },
      "execution_count": null,
      "outputs": []
    },
    {
      "cell_type": "code",
      "source": [
        "data.columns"
      ],
      "metadata": {
        "id": "KGwUGBxrtHYM"
      },
      "execution_count": null,
      "outputs": []
    },
    {
      "cell_type": "code",
      "source": [
        "categorical_cols = [\"Gender\", \"Parental Education Level\", \"Lunch Type\", \"Test Preparation Course\"]\n",
        "\n",
        "le_dict = {}\n",
        "\n",
        "# أنشئ LabelEncoder لكل عمود وخزّنه في القاموس\n",
        "for col in categorical_cols:\n",
        "    le = LabelEncoder()\n",
        "    data[col] = le.fit_transform(data[col])\n",
        "    le_dict[col] = le\n",
        "\n",
        "# خزّن قاموس الـ LabelEncoders\n",
        "joblib.dump(le_dict, \"/content/le.pkl\")"
      ],
      "metadata": {
        "id": "HWCKrqmysng8"
      },
      "execution_count": null,
      "outputs": []
    },
    {
      "cell_type": "code",
      "source": [],
      "metadata": {
        "id": "C-blAIiwIcHK"
      },
      "execution_count": null,
      "outputs": []
    },
    {
      "cell_type": "code",
      "source": [
        "min=MinMaxScaler()\n",
        "data[['Study Time', 'Absences']]=min.fit_transform(data[['Study Time', 'Absences']])\n",
        "joblib.dump(min,\"min.pkl\")"
      ],
      "metadata": {
        "id": "FIDM5lwTtjpb"
      },
      "execution_count": null,
      "outputs": []
    },
    {
      "cell_type": "code",
      "source": [
        "data.head()"
      ],
      "metadata": {
        "id": "7miwdtVswxVZ"
      },
      "execution_count": null,
      "outputs": []
    },
    {
      "cell_type": "code",
      "source": [
        "data.describe()"
      ],
      "metadata": {
        "id": "Wf74m12swytY"
      },
      "execution_count": null,
      "outputs": []
    },
    {
      "cell_type": "code",
      "source": [
        "x=data.drop('Exam_score',axis=1)\n",
        "y=data['Exam_score']\n",
        "x_train,x_test,y_train,y_test=train_test_split(x,y,test_size=0.2,random_state=42)\n"
      ],
      "metadata": {
        "id": "5E8rD7Jdw5OS"
      },
      "execution_count": null,
      "outputs": []
    },
    {
      "cell_type": "code",
      "source": [
        "dt=DecisionTreeRegressor()\n",
        "\n",
        "rf=RandomForestRegressor()\n",
        "lr=LinearRegression()"
      ],
      "metadata": {
        "id": "pvllzj4AxVdv"
      },
      "execution_count": null,
      "outputs": []
    },
    {
      "cell_type": "code",
      "source": [
        "dt.fit(x_train,y_train)"
      ],
      "metadata": {
        "id": "4etLonL_xycH"
      },
      "execution_count": null,
      "outputs": []
    },
    {
      "cell_type": "code",
      "source": [
        "rf.fit(x_train,y_train)"
      ],
      "metadata": {
        "id": "N7B1EYe_x6q0"
      },
      "execution_count": null,
      "outputs": []
    },
    {
      "cell_type": "code",
      "source": [
        "lr.fit(x_train,y_train)"
      ],
      "metadata": {
        "id": "tD35Mnpjx-op"
      },
      "execution_count": null,
      "outputs": []
    },
    {
      "cell_type": "code",
      "source": [
        "y_pred_dt=dt.predict(x_test)\n",
        "y_pred_rf=rf.predict(x_test)\n",
        "y_pred_lr=lr.predict(x_test)"
      ],
      "metadata": {
        "id": "XChaRRe2yCcf"
      },
      "execution_count": null,
      "outputs": []
    },
    {
      "cell_type": "code",
      "source": [
        "print(MSE(y_test,y_pred_lr))\n",
        "print(MAE(y_test,y_pred_lr))\n",
        "print(R2(y_test,y_pred_lr))"
      ],
      "metadata": {
        "id": "RaDRJOityLsd"
      },
      "execution_count": null,
      "outputs": []
    },
    {
      "cell_type": "code",
      "source": [
        "print(MSE(y_test,y_pred_dt))\n",
        "print(MAE(y_test,y_pred_dt))\n",
        "print(R2(y_test,y_pred_dt))"
      ],
      "metadata": {
        "id": "i_ZQ6kG6zU9A"
      },
      "execution_count": null,
      "outputs": []
    },
    {
      "cell_type": "code",
      "source": [
        "print(MSE(y_test,y_pred_rf))\n",
        "print(MAE(y_test,y_pred_rf))\n",
        "print(R2(y_test,y_pred_rf))"
      ],
      "metadata": {
        "id": "uQRIJJYOzuCR"
      },
      "execution_count": null,
      "outputs": []
    },
    {
      "cell_type": "code",
      "source": [
        "joblib.dump(rf,\"rf.pkl\")"
      ],
      "metadata": {
        "id": "igbADFhDTbeG"
      },
      "execution_count": null,
      "outputs": []
    },
    {
      "cell_type": "code",
      "source": [
        "plt.figure(figsize=(10,6))\n",
        "sns.scatterplot(x=y_test,y=y_pred_dt,color='red',label='dt model')\n",
        "sns.scatterplot(x=y_test,y=y_pred_rf,color='green',label='rf model')\n",
        "sns.scatterplot(x=y_test,y=y_pred_lr,color='blue',label='lr model')\n",
        "plt.title(\"y_test vs y_pred\")\n",
        "plt.xlabel('y_test')\n",
        "plt.ylabel('y_pred')\n",
        "plt.show()"
      ],
      "metadata": {
        "id": "hURm1VTv0JMS"
      },
      "execution_count": null,
      "outputs": []
    },
    {
      "cell_type": "code",
      "source": [
        "data.head(2)"
      ],
      "metadata": {
        "id": "mzeoOC-Y2rJZ"
      },
      "execution_count": null,
      "outputs": []
    },
    {
      "cell_type": "code",
      "source": [
        "plt.figure(figsize=(10,6))\n",
        "sns.histplot(x=data['Exam_score'],color='blue',bins=20,kde=True)\n",
        "plt.xlabel('Exam_score')\n",
        "plt.ylabel('frequency')\n",
        "plt.title(\"relation between target and feature\")\n",
        "plt.show()"
      ],
      "metadata": {
        "id": "HA_uCj_R1lTR"
      },
      "execution_count": null,
      "outputs": []
    },
    {
      "cell_type": "code",
      "source": [
        "plt.figure(figsize=(10,7))\n",
        "sns.scatterplot(x=data['Exam_score'],y=data['Study Time'],color='black')\n",
        "plt.xlabel('Exam_score')\n",
        "plt.ylabel('Study Time')\n",
        "plt.title(\"relation between two column\")\n",
        "plt.show()"
      ],
      "metadata": {
        "id": "2eNhSUK-3X-W"
      },
      "execution_count": null,
      "outputs": []
    },
    {
      "cell_type": "code",
      "source": [
        "plt.figure(figsize=(10,6))\n",
        "sns.barplot(x=data[\"Parental Education Level\"],y=data[\"Exam_score\"],color='brown')\n",
        "plt.xlabel(\"Parental Education Level\")\n",
        "plt.ylabel(\"Exam_score\")\n",
        "plt.title(\"impact Exam score on PEL\")\n",
        "plt.show()\n"
      ],
      "metadata": {
        "id": "AgieXouQ4Xqi"
      },
      "execution_count": null,
      "outputs": []
    },
    {
      "cell_type": "code",
      "source": [
        "params={'max_depth':[5,15,25]}\n",
        "grid_mod=GridSearchCV(DecisionTreeRegressor(),params,cv=5)\n",
        "grid_mod.fit(x_train,y_train)\n",
        "y_pred_grid=grid_mod.best_estimator_.predict(x_test)\n",
        "print(grid_mod.best_params_)\n",
        "print(MSE(y_test,y_pred_grid))"
      ],
      "metadata": {
        "id": "u5GBQjhT64vO"
      },
      "execution_count": null,
      "outputs": []
    },
    {
      "cell_type": "code",
      "source": [
        "par={'max_depth':[66,77,88]}\n",
        "rand_mod=RandomizedSearchCV(RandomForestRegressor(),par,cv=5)\n",
        "rand_mod.fit(x_train,y_train)\n",
        "print(rand_mod.best_params_)\n",
        "y_pred_rand=rand_mod.best_estimator_.predict(x_test)\n",
        "print(MSE(y_test,y_pred_rand))"
      ],
      "metadata": {
        "id": "5ZkKVRe99xFD"
      },
      "execution_count": null,
      "outputs": []
    },
    {
      "cell_type": "code",
      "source": [
        "import gradio as gr"
      ],
      "metadata": {
        "id": "tJWE7sZS_-Si"
      },
      "execution_count": null,
      "outputs": []
    },
    {
      "cell_type": "code",
      "source": [
        "data.info()"
      ],
      "metadata": {
        "id": "84geeXscH5za"
      },
      "execution_count": null,
      "outputs": []
    },
    {
      "cell_type": "code",
      "source": [
        "data[\"Parental Education Level\"].value_counts()"
      ],
      "metadata": {
        "id": "N3emF1VhGOaN"
      },
      "execution_count": null,
      "outputs": []
    },
    {
      "cell_type": "code",
      "source": [
        "le=joblib.load(\"/content/le.pkl\")\n",
        "min=joblib.load(\"/content/min.pkl\")\n",
        "rf=joblib.load(\"/content/rf.pkl\")\n",
        "import pandas as pd\n",
        "import gradio as gr\n",
        "\n",
        "\n",
        "\n",
        "\n",
        "def haneen(Gender, PEL, LT, TPC, ST, Absences):\n",
        "  try:\n",
        "    inputs_data=pd.DataFrame({\n",
        "        \"Gender\":[Gender],\n",
        "        \"Parental Education Level\":[PEL],\n",
        "        \"Lunch Type\":[LT],\n",
        "        \"Test Preparation Course\":[TPC],\n",
        "        \"Study Time\":[ST],\n",
        "        \"Absences\":[Absences]\n",
        "    })\n",
        "    for i in inputs_data:\n",
        "      if inputs_data[i].dtype=='object':\n",
        "        inputs_data[i]=le.transform(inputs_data[i])\n",
        "    inputs_data[[\"Study Time\",\"Absences\"]]=min.transform(inputs_data[[\"Study Time\",\"Absences\"]])\n",
        "    prediction=rf.predict(inputs_data)\n",
        "    print(prediction)\n",
        "    print(prediction)\n",
        "    return prediction[0]\n",
        "  except Exception as e:\n",
        "    return str(e)\n",
        "gr.Interface(\n",
        "    fn=haneen,\n",
        "    inputs=[\n",
        "    gr.Dropdown(label='Gender',choices=[\"female\",\"male\"]),\n",
        "    gr.Dropdown(label='Parental Education Level',choices=[\"High School\",\"Bachelor\",\"Associate\",\"Master\",\"Some College\"]),\n",
        "    gr.Dropdown(label='Lunch Type',choices=[\"Standard\",\"Free/Reduced\"]),\n",
        "    gr.Dropdown(label=\"Test Preparation Course\",choices=[\"Completed\",\"Nat complete\"]),\n",
        "    gr.Number(label=\"Study Time\"),\n",
        "    gr.Number(label=\"Absences\")\n",
        "        ],\n",
        "    outputs=gr.Text(\"prediction\")\n",
        "\n",
        ").launch()\n",
        "\n",
        "\n"
      ],
      "metadata": {
        "id": "hsZFvK6SAFps"
      },
      "execution_count": null,
      "outputs": []
    },
    {
      "cell_type": "code",
      "source": [
        "le = joblib.load(\"/content/le.pkl\")  # قاموس من LabelEncoders\n",
        "min = joblib.load(\"/content/min.pkl\")\n",
        "rf = joblib.load(\"/content/rf.pkl\")\n",
        "\n",
        "import pandas as pd\n",
        "import gradio as gr\n",
        "\n",
        "def haneen(Gender, PEL, LT, TPC, ST, Absences):\n",
        "  try:\n",
        "    inputs_data = pd.DataFrame({\n",
        "        \"Gender\": [Gender],\n",
        "        \"Parental Education Level\": [PEL],\n",
        "        \"Lunch Type\": [LT],\n",
        "        \"Test Preparation Course\": [TPC],\n",
        "        \"Study Time\": [ST],\n",
        "        \"Absences\": [Absences]\n",
        "    })\n",
        "\n",
        "    # التحويل باستخدام القاموس\n",
        "    for col in [\"Gender\", \"Parental Education Level\", \"Lunch Type\", \"Test Preparation Course\"]:\n",
        "        inputs_data[col] = le[col].transform(inputs_data[col])\n",
        "\n",
        "    # التحويل للأرقام باستخدام MinMaxScaler\n",
        "    inputs_data[[\"Study Time\", \"Absences\"]] = min.transform(inputs_data[[\"Study Time\", \"Absences\"]])\n",
        "\n",
        "    prediction = rf.predict(inputs_data)\n",
        "    return prediction[0]\n",
        "  except Exception as e:\n",
        "    return str(e)\n",
        "\n",
        "# Gradio واجهة\n",
        "gr.Interface(\n",
        "    fn=haneen,\n",
        "    inputs=[\n",
        "        gr.Dropdown(label='Gender', choices=[\"female\", \"male\"]),\n",
        "        gr.Dropdown(label='Parental Education Level', choices=[\"High School\", \"Bachelor\", \"Associate\", \"Master\", \"Some College\"]),\n",
        "        gr.Dropdown(label='Lunch Type', choices=[\"Standard\", \"Free/Reduced\"]),\n",
        "        gr.Dropdown(label=\"Test Preparation Course\", choices=[\"Completed\", \"Nat complete\"]),\n",
        "        gr.Number(label=\"Study Time\"),\n",
        "        gr.Number(label=\"Absences\")\n",
        "    ],\n",
        "    outputs=gr.Text(label=\"Prediction\")\n",
        ").launch()\n"
      ],
      "metadata": {
        "id": "PLMOsUeMHt32"
      },
      "execution_count": null,
      "outputs": []
    },
    {
      "cell_type": "code",
      "source": [],
      "metadata": {
        "id": "5QOakw9GPZsL"
      },
      "execution_count": null,
      "outputs": []
    }
  ]
}