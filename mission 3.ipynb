{
  "nbformat": 4,
  "nbformat_minor": 0,
  "metadata": {
    "colab": {
      "private_outputs": true,
      "provenance": []
    },
    "kernelspec": {
      "name": "python3",
      "display_name": "Python 3"
    },
    "language_info": {
      "name": "python"
    }
  },
  "cells": [
    {
      "cell_type": "code",
      "execution_count": null,
      "metadata": {
        "id": "X9kaJ-8LSqGv"
      },
      "outputs": [],
      "source": [
        "import pandas as pd\n",
        "import numpy as np\n",
        "import matplotlib.pyplot as plt\n",
        "from sklearn.model_selection import train_test_split\n",
        "from sklearn.preprocessing import LabelEncoder,MinMaxScaler\n",
        "from sklearn.ensemble import RandomForestRegressor\n",
        "from sklearn.tree import DecisionTreeRegressor\n",
        "from sklearn.linear_model import LinearRegression\n",
        "from sklearn.model_selection import GridSearchCV,RandomizedSearchCV\n",
        "from sklearn.metrics import mean_squared_error as MSE, mean_absolute_error as MAE,r2_score as r2,confusion_matrix\n",
        "import seaborn as sns\n"
      ]
    },
    {
      "cell_type": "code",
      "source": [
        "data=pd.read_csv(\"/content/mission_3.csv\")\n",
        "data.head()"
      ],
      "metadata": {
        "id": "YSK5zunipe7k"
      },
      "execution_count": null,
      "outputs": []
    },
    {
      "cell_type": "code",
      "source": [
        "data.info()"
      ],
      "metadata": {
        "id": "c71ng8pQpm0L"
      },
      "execution_count": null,
      "outputs": []
    },
    {
      "cell_type": "code",
      "source": [
        "data.isnull().sum()"
      ],
      "metadata": {
        "id": "P3r060pvppx4"
      },
      "execution_count": null,
      "outputs": []
    },
    {
      "cell_type": "code",
      "source": [
        "data.drop_duplicates()"
      ],
      "metadata": {
        "id": "ojv0FaWppt0Y"
      },
      "execution_count": null,
      "outputs": []
    },
    {
      "cell_type": "code",
      "source": [
        "col=[\"Brand\",\"Fuel Type\",\"Transmission\"]"
      ],
      "metadata": {
        "id": "tTK2QZM3pxWn"
      },
      "execution_count": null,
      "outputs": []
    },
    {
      "cell_type": "code",
      "source": [
        "le={}\n",
        "for i in col:\n",
        "  le[i]=LabelEncoder()\n",
        "  data[i]=le[i].fit_transform(data[i])\n"
      ],
      "metadata": {
        "id": "OO4umbGtqF6O"
      },
      "execution_count": null,
      "outputs": []
    },
    {
      "cell_type": "code",
      "source": [
        "data.columns"
      ],
      "metadata": {
        "id": "uHSyJ2_9un5I"
      },
      "execution_count": null,
      "outputs": []
    },
    {
      "cell_type": "code",
      "source": [
        "min=MinMaxScaler()\n",
        "data[['Model Year', 'Mileage (miles)','Condition']]=min.fit_transform(data[['Model Year', 'Mileage (miles)','Condition']])"
      ],
      "metadata": {
        "id": "_Z41R8REqmA5"
      },
      "execution_count": null,
      "outputs": []
    },
    {
      "cell_type": "code",
      "source": [
        "x=data.drop(\"Resale Price\",axis=1)\n",
        "y=data[\"Resale Price\"]\n",
        "x_train,x_test,y_train,y_test=train_test_split(x,y,test_size=0.2,random_state=42)\n"
      ],
      "metadata": {
        "id": "Nmel8X2qvRAB"
      },
      "execution_count": null,
      "outputs": []
    },
    {
      "cell_type": "code",
      "source": [
        "lr=LinearRegression()\n",
        "lr.fit(x_train,y_train)\n",
        "pred_lr=lr.predict(x_test)\n",
        "print(MSE(y_test,pred_lr))\n",
        "print(MAE(y_test,pred_lr))\n",
        "print(r2(y_test,pred_lr))"
      ],
      "metadata": {
        "id": "GAgBfLA6s9C8"
      },
      "execution_count": null,
      "outputs": []
    },
    {
      "cell_type": "code",
      "source": [
        "dt=DecisionTreeRegressor()\n",
        "dt.fit(x_train,y_train)\n",
        "pred_dt=dt.predict(x_test)\n",
        "print(MSE(y_test,pred_dt))\n",
        "print(MAE(y_test,pred_dt))\n",
        "print(r2(y_test,pred_dt))\n"
      ],
      "metadata": {
        "id": "ChJYkMJgv6NE"
      },
      "execution_count": null,
      "outputs": []
    },
    {
      "cell_type": "code",
      "source": [
        "rf=RandomForestRegressor()\n",
        "rf.fit(x_train,y_train)\n",
        "pred_rf=rf.predict(x_test)\n",
        "print(MSE(y_test,pred_rf))\n",
        "print(MAE(y_test,pred_rf))\n",
        "print(r2(y_test,pred_rf))"
      ],
      "metadata": {
        "id": "B8Q1nfLotKaf"
      },
      "execution_count": null,
      "outputs": []
    },
    {
      "cell_type": "code",
      "source": [
        "plt.figure(figsize=(10,8))\n",
        "sns.histplot(x=data[\"Resale Price\"],color='black',kde=True,bins=20)\n",
        "plt.title(\"relation between target and feature\")\n",
        "plt.xlabel(\"Resale Price\")\n",
        "plt.ylabel(\"Frequency\")\n",
        "plt.show()"
      ],
      "metadata": {
        "id": "Iw4TtKIRwYVz"
      },
      "execution_count": null,
      "outputs": []
    },
    {
      "cell_type": "code",
      "source": [
        "plt.figure(figsize=(10,6))\n",
        "sns.scatterplot(x=\"Resale Price\",y=\"Brand\",data=data,color='red')\n",
        "plt.title(\"relation between two columns\")\n",
        "plt.xlabel(\"Resale Price\")\n",
        "plt.ylabel(\"Brand\")\n",
        "plt.show()"
      ],
      "metadata": {
        "id": "uLyg8b7Rx4Ms"
      },
      "execution_count": null,
      "outputs": []
    },
    {
      "cell_type": "code",
      "source": [
        "plt.figure(figsize=(10,7))\n",
        "sns.barplot(x=\"Resale Price\",y=\"Mileage (miles)\",data=data,color='green')\n",
        "plt.title(\"impact column on the other column\")\n",
        "plt.xlabel(\"Resale Price\")\n",
        "plt.ylabel(\"Mileage (miles)\")\n",
        "plt.show()"
      ],
      "metadata": {
        "id": "uO7Pe0xOy_hj"
      },
      "execution_count": null,
      "outputs": []
    },
    {
      "cell_type": "code",
      "source": [
        "plt.figure(figsize=(10,7))\n",
        "sns.scatterplot(x=y_test,y=pred_lr,color='red')\n",
        "sns.scatterplot(x=y_test,y=pred_dt,color=\"green\")\n",
        "sns.scatterplot(x=y_test,y=pred_rf,color='black')\n",
        "plt.title(\"prediction\")\n",
        "plt.xlabel(\"y_test\")\n",
        "plt.ylabel(\"pred\")\n",
        "plt.show()"
      ],
      "metadata": {
        "id": "F8mAvSc4zzTy"
      },
      "execution_count": null,
      "outputs": []
    },
    {
      "cell_type": "code",
      "source": [
        "params={'max_depth':[5,10,15]}\n",
        "grid=GridSearchCV(DecisionTreeRegressor(),params,cv=5)\n",
        "grid.fit(x_train,y_train)\n",
        "print(grid.best_params_)\n",
        "pred_gred_dt=grid.best_estimator_.predict(x_test)\n",
        "print(MSE(y_test,pred_gred_dt))"
      ],
      "metadata": {
        "id": "6i-otB5S0-G9"
      },
      "execution_count": null,
      "outputs": []
    },
    {
      "cell_type": "code",
      "source": [
        "param={'max_depth':[33,44,55]}\n",
        "random=RandomizedSearchCV(RandomForestRegressor(),param,cv=5)\n",
        "random.fit(x_train,y_train)\n",
        "print(random.best_params_)\n",
        "pred_random_rf=random.best_estimator_.predict(x_test)\n",
        "print(MSE(y_test,pred_random_rf))\n"
      ],
      "metadata": {
        "id": "Bq91ZtjJ3WWj"
      },
      "execution_count": null,
      "outputs": []
    },
    {
      "cell_type": "code",
      "source": [
        "plt.figure(figsize=(10,6))\n",
        "sns.scatterplot(x=y_test,y=pred_gred_dt,color='black')\n",
        "sns.scatterplot(x=y_test,y=pred_random_rf,color='blue')\n",
        "plt.xlabel(\"y_test\")\n",
        "plt.ylabel(\"y_pred\")\n",
        "plt.show()"
      ],
      "metadata": {
        "id": "ewhTwYKA4RUd"
      },
      "execution_count": null,
      "outputs": []
    },
    {
      "cell_type": "code",
      "source": [
        "import gradio as gr"
      ],
      "metadata": {
        "id": "Uhermfrw48oL"
      },
      "execution_count": null,
      "outputs": []
    },
    {
      "cell_type": "code",
      "source": [
        "data.columns"
      ],
      "metadata": {
        "id": "DKDUgRiv6wWB"
      },
      "execution_count": null,
      "outputs": []
    },
    {
      "cell_type": "code",
      "source": [
        "def haneen(Brand,ModelY,Miles,FT,Condition,Transmission):\n",
        "  try:\n",
        "    inputs_data=pd.DataFrame({\n",
        "        \"Brand\":[Brand],\n",
        "        \"Model Year\":[ModelY],\n",
        "        \"Mileage (miles)\":[Miles],\n",
        "        \"Fuel Type\":[FT],\n",
        "        \"Condition\":[Condition],\n",
        "        \"Transmission\":[Transmission]\n",
        "    })\n",
        "    for i in le:\n",
        "      inputs_data[i]=le[i].transform(inputs_data[i])\n",
        "\n",
        "    inputs_data[['Model Year', 'Mileage (miles)','Condition']]=min.transform(inputs_data[['Model Year', 'Mileage (miles)','Condition']])\n",
        "    result=dt.predict(inputs_data)\n",
        "    print(result)\n",
        "    return result[0]\n",
        "  except Exception as e:\n",
        "    return str(e)\n",
        "gr.Interface(\n",
        "    fn=haneen,\n",
        "    inputs= [\n",
        "        gr.Dropdown(['Ford','BMW','Honda','Toyota'],label=\"Brand\"),\n",
        "        gr.Number(label=\"Model Year\"),\n",
        "        gr.Number(label=\"Mileage (miles)\"),\n",
        "        gr.Dropdown(['Electric','Diesel','Gasoline'],label=\"Fuel Type\"),\n",
        "        gr.Number(label=\"Condition\"),\n",
        "        gr.Dropdown(['Automatic','Manual'],label=\"Transmission\")\n",
        "    ],\n",
        "     outputs=gr.Number(label=\"prediction\")\n",
        ").launch()"
      ],
      "metadata": {
        "id": "A9kPQbGhMxGu"
      },
      "execution_count": null,
      "outputs": []
    },
    {
      "cell_type": "code",
      "source": [],
      "metadata": {
        "id": "TAWdzWO0RjqW"
      },
      "execution_count": null,
      "outputs": []
    }
  ]
}