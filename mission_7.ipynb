{
  "nbformat": 4,
  "nbformat_minor": 0,
  "metadata": {
    "colab": {
      "private_outputs": true,
      "provenance": []
    },
    "kernelspec": {
      "name": "python3",
      "display_name": "Python 3"
    },
    "language_info": {
      "name": "python"
    }
  },
  "cells": [
    {
      "cell_type": "code",
      "execution_count": null,
      "metadata": {
        "id": "krE1-X5GIrpA"
      },
      "outputs": [],
      "source": [
        "import pandas as pd\n",
        "import numpy as np\n",
        "import seaborn as sns\n",
        "import gradio as gr\n",
        "import matplotlib.pyplot as plt\n",
        "from sklearn.preprocessing import LabelEncoder,MinMaxScaler\n",
        "from sklearn.model_selection import train_test_split\n",
        "from sklearn.model_selection import GridSearchCV,RandomizedSearchCV\n",
        "from sklearn.linear_model import LogisticRegression\n",
        "from sklearn.tree import DecisionTreeClassifier\n",
        "from sklearn.ensemble import RandomForestClassifier\n",
        "from sklearn.metrics import mean_squared_error,mean_absolute_error,r2_score,confusion_matrix,classification_report,accuracy_score"
      ]
    },
    {
      "cell_type": "code",
      "source": [
        "data=pd.read_csv(\"/content/mission7.csv\")\n",
        "data.head()"
      ],
      "metadata": {
        "id": "jlDfEnAoJkps"
      },
      "execution_count": null,
      "outputs": []
    },
    {
      "cell_type": "code",
      "source": [
        "data[\"Thrives\"]=data[\"Thrives\"].map({\"Yes\":1,\"No\":0})"
      ],
      "metadata": {
        "id": "r5EyfFbxKQNQ"
      },
      "execution_count": null,
      "outputs": []
    },
    {
      "cell_type": "code",
      "source": [
        "data.columns"
      ],
      "metadata": {
        "id": "czsqVyo9KnnJ"
      },
      "execution_count": null,
      "outputs": []
    },
    {
      "cell_type": "code",
      "source": [
        "le={}\n",
        "col=['Soil Type','Plant Species']\n",
        "for i in col:\n",
        "  le[i]=LabelEncoder()\n",
        "  data[i]=le[i].fit_transform(data[i])"
      ],
      "metadata": {
        "id": "T_2GM_WQKitj"
      },
      "execution_count": null,
      "outputs": []
    },
    {
      "cell_type": "code",
      "source": [
        "min=MinMaxScaler()\n",
        "data[['Sunlight (hours/day)', 'Water Supply (liters/week)','Temperature (Â°C)', 'pH Level']]=min.fit_transform(data[['Sunlight (hours/day)', 'Water Supply (liters/week)','Temperature (Â°C)', 'pH Level']])"
      ],
      "metadata": {
        "id": "HYeeX8CcLDJG"
      },
      "execution_count": null,
      "outputs": []
    },
    {
      "cell_type": "code",
      "source": [
        "data.head()"
      ],
      "metadata": {
        "id": "VoDViBIBLhAZ"
      },
      "execution_count": null,
      "outputs": []
    },
    {
      "cell_type": "code",
      "source": [
        "x=data.drop(\"Thrives\",axis=1)\n",
        "y=data[\"Thrives\"]\n",
        "x_train,x_test,y_train,y_test=train_test_split(x,y,test_size=0.2,random_state=42)"
      ],
      "metadata": {
        "id": "BdfPNbcMLjzs"
      },
      "execution_count": null,
      "outputs": []
    },
    {
      "cell_type": "code",
      "source": [
        "lr=LogisticRegression()\n",
        "lr.fit(x_train,y_train)\n",
        "pred_lr=lr.predict(x_test)\n",
        "print(mean_squared_error(y_test,pred_lr))\n",
        "print(mean_absolute_error(y_test,pred_lr))\n",
        "print(r2_score(y_test,pred_lr))\n",
        "print(confusion_matrix(y_test,pred_lr))\n",
        "print(classification_report(y_test,pred_lr))\n",
        "print(accuracy_score(y_test,pred_lr))"
      ],
      "metadata": {
        "id": "wpBi9ObvMKEY"
      },
      "execution_count": null,
      "outputs": []
    },
    {
      "cell_type": "code",
      "source": [
        "dt=DecisionTreeClassifier()\n",
        "dt.fit(x_train,y_train)\n",
        "pred_dt=dt.predict(x_test)\n",
        "print(mean_squared_error(y_test,pred_dt))\n",
        "print(mean_absolute_error(y_test,pred_dt))\n",
        "print(r2_score(y_test,pred_dt))\n",
        "print(confusion_matrix(y_test,pred_dt))\n",
        "print(classification_report(y_test,pred_dt))\n",
        "print(accuracy_score(y_test,pred_dt))"
      ],
      "metadata": {
        "id": "bpBfHCGzMUTr"
      },
      "execution_count": null,
      "outputs": []
    },
    {
      "cell_type": "code",
      "source": [
        "rf=RandomForestClassifier()\n",
        "rf.fit(x_train,y_train)\n",
        "pred_rf=rf.predict(x_test)\n",
        "print(mean_squared_error(y_test,pred_rf))\n",
        "print(mean_absolute_error(y_test,pred_rf))\n",
        "print(r2_score(y_test,pred_rf))\n",
        "print(confusion_matrix(y_test,pred_rf))\n",
        "print(classification_report(y_test,pred_rf))\n",
        "print(accuracy_score(y_test,pred_rf))"
      ],
      "metadata": {
        "id": "T5i1mcDcOLHm"
      },
      "execution_count": null,
      "outputs": []
    },
    {
      "cell_type": "code",
      "source": [
        "plt.figure(figsize=(10,6))\n",
        "sns.scatterplot(x=y_test,y=pred_lr,color='black')\n",
        "sns.scatterplot(x=y_test,y=pred_dt,color='green')\n",
        "sns.scatterplot(x=y_test,y=pred_rf,color='blue')\n",
        "plt.title(\"hi\")\n",
        "plt.xlabel(\"y_test\")\n",
        "plt.ylabel(\"pred_model\")\n",
        "plt.show()\n"
      ],
      "metadata": {
        "id": "sytETylROcYm"
      },
      "execution_count": null,
      "outputs": []
    },
    {
      "cell_type": "code",
      "source": [
        "params={'max_iter':[100,200,300]}\n",
        "grid=GridSearchCV(LogisticRegression(),params,cv=5)\n",
        "grid.fit(x_train,y_train)\n",
        "print(grid.best_params_)\n",
        "grid.best_score_\n"
      ],
      "metadata": {
        "id": "MzC0K_TGPAna"
      },
      "execution_count": null,
      "outputs": []
    },
    {
      "cell_type": "code",
      "source": [
        "par={'max_depth':[100,200,300]}\n",
        "random=RandomizedSearchCV(RandomForestClassifier(),par,cv=5)\n",
        "random.fit(x_train,y_train)\n",
        "print(random.best_params_)\n",
        "random.best_score_"
      ],
      "metadata": {
        "id": "6JEKS4WyP5eE"
      },
      "execution_count": null,
      "outputs": []
    },
    {
      "cell_type": "code",
      "source": [
        "data.columns"
      ],
      "metadata": {
        "id": "2g5zSkOMRJ_p"
      },
      "execution_count": null,
      "outputs": []
    },
    {
      "cell_type": "code",
      "source": [
        "def haneen(ST,Sun,WS,T,pH,PS):\n",
        "  try:\n",
        "    input_data=pd.DataFrame({\n",
        "        \"Soil Type\":[ST],\n",
        "        \"Sunlight (hours/day)\":[Sun],\n",
        "        \"Water Supply (liters/week)\":[WS],\n",
        "        \"Temperature (Â°C)\":[T],\n",
        "        \"pH Level\":[pH],\n",
        "        \"Plant Species\":[PS]\n",
        "    })\n",
        "    for i in col:\n",
        "      input_data[i]=le[i].transform(input_data[i])\n",
        "    input_data[['Sunlight (hours/day)', 'Water Supply (liters/week)','Temperature (Â°C)', 'pH Level']]=min.transform(input_data[['Sunlight (hours/day)', 'Water Supply (liters/week)','Temperature (Â°C)', 'pH Level']])\n",
        "    result=dt.predict(input_data)\n",
        "    if result[0]==1:\n",
        "      return \"Yes\"\n",
        "    else:\n",
        "      return \"No\"\n",
        "  except Exception as e:\n",
        "    return e\n",
        "gr.Interface(\n",
        "    fn=haneen,\n",
        "    inputs= [\n",
        "        gr.Dropdown([\"Clay\",\"Sandy\",\"Loamy\"],label=\"Soil Type\"),\n",
        "        gr.Number(label=\"Sunlight (hours/day)\"),\n",
        "        gr.Number(label=\"Water Supply (liters/week)\"),\n",
        "        gr.Number(label=\"Temperature (Â°C)\"),\n",
        "        gr.Number(label=\"pH Level\"),\n",
        "        gr.Dropdown([\"Lily\",\"Fern\",\"Cactus\"],label=\"Plant Species\")\n",
        "    ],\n",
        "     outputs=gr.Textbox(label=\"prediction\")\n",
        ").launch()"
      ],
      "metadata": {
        "id": "3bJLlLv3QyOq"
      },
      "execution_count": null,
      "outputs": []
    },
    {
      "cell_type": "code",
      "source": [],
      "metadata": {
        "id": "E03p-aWiT4lE"
      },
      "execution_count": null,
      "outputs": []
    }
  ]
}