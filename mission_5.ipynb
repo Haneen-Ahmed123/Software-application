{
  "nbformat": 4,
  "nbformat_minor": 0,
  "metadata": {
    "colab": {
      "private_outputs": true,
      "provenance": []
    },
    "kernelspec": {
      "name": "python3",
      "display_name": "Python 3"
    },
    "language_info": {
      "name": "python"
    }
  },
  "cells": [
    {
      "cell_type": "code",
      "execution_count": null,
      "metadata": {
        "id": "i4-DSO3WW_zW"
      },
      "outputs": [],
      "source": [
        "import pandas as pd\n",
        "import numpy as np\n",
        "import seaborn as sns\n",
        "import matplotlib.pyplot as plt\n",
        "from sklearn.model_selection import train_test_split\n",
        "from sklearn.model_selection import GridSearchCV,RandomizedSearchCV\n",
        "from sklearn.preprocessing import LabelEncoder,MinMaxScaler\n",
        "from sklearn.linear_model import LogisticRegression\n",
        "from sklearn.tree import DecisionTreeClassifier\n",
        "from sklearn.ensemble import RandomForestClassifier\n",
        "from sklearn.metrics import accuracy_score,confusion_matrix,classification_report\n",
        "\n"
      ]
    },
    {
      "cell_type": "code",
      "source": [
        "data=pd.read_csv(\"/content/mission5.csv\")\n",
        "data.head()"
      ],
      "metadata": {
        "id": "u5i14dTVYBIk"
      },
      "execution_count": null,
      "outputs": []
    },
    {
      "cell_type": "code",
      "source": [
        "data.info()"
      ],
      "metadata": {
        "id": "JYnIZW5GZ489"
      },
      "execution_count": null,
      "outputs": []
    },
    {
      "cell_type": "code",
      "source": [
        "data.drop_duplicates()"
      ],
      "metadata": {
        "id": "MPTl40LEZ6r5"
      },
      "execution_count": null,
      "outputs": []
    },
    {
      "cell_type": "code",
      "source": [
        "data[\"Accepted\"]=data[\"Accepted\"].map({\"Yes\":1,\"No\":0})"
      ],
      "metadata": {
        "id": "-BhiDxdOaAUk"
      },
      "execution_count": null,
      "outputs": []
    },
    {
      "cell_type": "code",
      "source": [
        "data.columns"
      ],
      "metadata": {
        "id": "_wZ8WUZoadf-"
      },
      "execution_count": null,
      "outputs": []
    },
    {
      "cell_type": "code",
      "source": [
        "min=MinMaxScaler()\n",
        "data[['GPA', 'Test Score', 'Extracurricular Activities', 'Volunteer Hours','Recommendation Letters', 'Essay Score']]=min.fit_transform(data[['GPA', 'Test Score', 'Extracurricular Activities', 'Volunteer Hours','Recommendation Letters', 'Essay Score']])"
      ],
      "metadata": {
        "id": "C7VHZfJPacK-"
      },
      "execution_count": null,
      "outputs": []
    },
    {
      "cell_type": "code",
      "source": [
        "data.head()"
      ],
      "metadata": {
        "id": "jT2rc3WjayUu"
      },
      "execution_count": null,
      "outputs": []
    },
    {
      "cell_type": "code",
      "source": [
        "x=data.drop(\"Accepted\",axis=1)\n",
        "y=data[\"Accepted\"]\n",
        "x_train,x_test,y_train,y_test=train_test_split(x,y,test_size=0.2,random_state=42)\n"
      ],
      "metadata": {
        "id": "dsL5aPuea0Ci"
      },
      "execution_count": null,
      "outputs": []
    },
    {
      "cell_type": "code",
      "source": [
        "lr=LogisticRegression()\n",
        "lr.fit(x_train,y_train)\n",
        "pred_lr=lr.predict(x_test)\n",
        "print(accuracy_score(y_test,pred_lr))\n",
        "print(confusion_matrix(y_test,pred_lr))\n",
        "print(classification_report(y_test,pred_lr))"
      ],
      "metadata": {
        "id": "_AgljJTKbMYJ"
      },
      "execution_count": null,
      "outputs": []
    },
    {
      "cell_type": "code",
      "source": [
        "dt=DecisionTreeClassifier()\n",
        "dt.fit(x_train,y_train)\n",
        "pred_dt=dt.predict(x_test)\n",
        "print(accuracy_score(y_test,pred_dt))\n",
        "print(confusion_matrix(y_test,pred_dt))\n",
        "print(classification_report(y_test,pred_dt))"
      ],
      "metadata": {
        "id": "tfo2mlNPcC1D"
      },
      "execution_count": null,
      "outputs": []
    },
    {
      "cell_type": "code",
      "source": [
        "rf=RandomForestClassifier()\n",
        "rf.fit(x_train,y_train)\n",
        "pred_rf=rf.predict(x_test)\n",
        "print(accuracy_score(y_test,pred_rf))\n",
        "print(confusion_matrix(y_test,pred_rf))\n",
        "print(classification_report(y_test,pred_rf))"
      ],
      "metadata": {
        "id": "CqHy_qGUcPI4"
      },
      "execution_count": null,
      "outputs": []
    },
    {
      "cell_type": "code",
      "source": [
        "params={'max_iter':[100,200,300]}\n",
        "grid=GridSearchCV(LogisticRegression(),params,cv=5)\n",
        "grid.fit(x_train,y_train)\n",
        "print(grid.best_params_)\n",
        "grid.best_score_"
      ],
      "metadata": {
        "id": "Q_RT6hXHcaxC"
      },
      "execution_count": null,
      "outputs": []
    },
    {
      "cell_type": "code",
      "source": [
        "par={'max_depth':[100,200,300]}\n",
        "random=RandomizedSearchCV(RandomForestClassifier(),par,cv=5)\n",
        "random.fit(x_train,y_train)\n",
        "print(random.best_params_)\n",
        "random.best_score_"
      ],
      "metadata": {
        "id": "HWN9omU3c7_u"
      },
      "execution_count": null,
      "outputs": []
    },
    {
      "cell_type": "code",
      "source": [
        "import gradio as gr"
      ],
      "metadata": {
        "id": "iSP4oYHcdgpm"
      },
      "execution_count": null,
      "outputs": []
    },
    {
      "cell_type": "code",
      "source": [
        "data.columns"
      ],
      "metadata": {
        "id": "a_JTq78LdvoH"
      },
      "execution_count": null,
      "outputs": []
    },
    {
      "cell_type": "code",
      "source": [
        "def haneen(GPA,TS,EA,VH,RL,ES):\n",
        "  try:\n",
        "    input_data=pd.DataFrame({\n",
        "        \"GPA\":[GPA],\n",
        "        \"Test Score\":[TS],\n",
        "        \"Extracurricular Activities\":[EA],\n",
        "        \"Volunteer Hours\":[VH],\n",
        "        \"Recommendation Letters\":[RL],\n",
        "        \"Essay Score\":[ES]\n",
        "    })\n",
        "    input_data[['GPA', 'Test Score', 'Extracurricular Activities', 'Volunteer Hours','Recommendation Letters', 'Essay Score']]=min.transform(input_data[['GPA', 'Test Score', 'Extracurricular Activities', 'Volunteer Hours','Recommendation Letters', 'Essay Score']])\n",
        "    result=lr.predict(input_data)\n",
        "    if result[0]==1:\n",
        "      return \"Yes\"\n",
        "    else:\n",
        "      return \"No\"\n",
        "  except Exception as e:\n",
        "    return str(e)\n",
        "gr.Interface(\n",
        "    fn=haneen,\n",
        "    inputs= [\n",
        "        gr.Number(label=\"GPA\"),\n",
        "        gr.Number(label=\"Test Score\"),\n",
        "        gr.Number(label=\"Extracurricular Activities\"),\n",
        "        gr.Number(label=\"Volunteer Hours\"),\n",
        "        gr.Number(label=\"Recommendation Letters\"),\n",
        "        gr.Number(label=\"Essay Score\")\n",
        "    ],\n",
        "     outputs=gr.Textbox(label=\"prediction\")\n",
        ").launch()"
      ],
      "metadata": {
        "id": "gH6ylUdrdqpa"
      },
      "execution_count": null,
      "outputs": []
    },
    {
      "cell_type": "code",
      "source": [],
      "metadata": {
        "id": "iCBTwp-Ff3Zk"
      },
      "execution_count": null,
      "outputs": []
    }
  ]
}