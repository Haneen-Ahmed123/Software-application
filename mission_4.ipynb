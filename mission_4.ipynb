{
  "nbformat": 4,
  "nbformat_minor": 0,
  "metadata": {
    "colab": {
      "private_outputs": true,
      "provenance": []
    },
    "kernelspec": {
      "name": "python3",
      "display_name": "Python 3"
    },
    "language_info": {
      "name": "python"
    }
  },
  "cells": [
    {
      "cell_type": "code",
      "execution_count": null,
      "metadata": {
        "id": "wWjXBA8KhE2B"
      },
      "outputs": [],
      "source": [
        "import pandas as pd\n",
        "import numpy as np\n",
        "import matplotlib.pyplot as plt\n",
        "import seaborn as sns\n",
        "from sklearn.preprocessing import LabelEncoder, MinMaxScaler\n",
        "from sklearn.model_selection import GridSearchCV,RandomizedSearchCV\n",
        "from sklearn.linear_model import LinearRegression\n",
        "from sklearn.tree import DecisionTreeRegressor\n",
        "from sklearn.ensemble import RandomForestRegressor\n",
        "from sklearn.metrics import mean_squared_error as MSE,mean_absolute_error as MAE,r2_score as r2\n",
        "from sklearn.model_selection import train_test_split"
      ]
    },
    {
      "cell_type": "code",
      "source": [
        "data=pd.read_csv(\"/content/mission 4.csv\")"
      ],
      "metadata": {
        "id": "zH8lab-vjGTX"
      },
      "execution_count": null,
      "outputs": []
    },
    {
      "cell_type": "code",
      "source": [
        "data.head(5)"
      ],
      "metadata": {
        "id": "URtfQDrpjd4W"
      },
      "execution_count": null,
      "outputs": []
    },
    {
      "cell_type": "code",
      "source": [
        "data.info()"
      ],
      "metadata": {
        "id": "BLUDRnSVjguu"
      },
      "execution_count": null,
      "outputs": []
    },
    {
      "cell_type": "code",
      "source": [
        "data.isnull().sum()"
      ],
      "metadata": {
        "id": "buh5N29Wjm21"
      },
      "execution_count": null,
      "outputs": []
    },
    {
      "cell_type": "code",
      "source": [
        "data.describe()"
      ],
      "metadata": {
        "id": "lb0ZxVlrjqoy"
      },
      "execution_count": null,
      "outputs": []
    },
    {
      "cell_type": "code",
      "source": [
        "data.columns"
      ],
      "metadata": {
        "id": "imjho8fYj0By"
      },
      "execution_count": null,
      "outputs": []
    },
    {
      "cell_type": "code",
      "source": [
        "le={}\n",
        "col=['Brand', 'Processor Type','Operating System']\n",
        "for i in col:\n",
        "  le[i]=LabelEncoder()\n",
        "  data[i]=le[i].fit_transform(data[i])\n",
        ""
      ],
      "metadata": {
        "id": "70H1ha4WjtGp"
      },
      "execution_count": null,
      "outputs": []
    },
    {
      "cell_type": "code",
      "source": [
        "data.head()"
      ],
      "metadata": {
        "id": "jk7cRaBKkleU"
      },
      "execution_count": null,
      "outputs": []
    },
    {
      "cell_type": "code",
      "source": [
        "plt.figure(figsize=(10,6))\n",
        "sns.histplot(x=data[\"Price ($)\"],color=\"black\",kde=True)\n",
        "plt.title(\"relation between target and feature\")\n",
        "plt.xlabel(\"Price ($)\")\n",
        "plt.ylabel(\"Frequency\")\n",
        "plt.show()"
      ],
      "metadata": {
        "id": "UKhOPYjRZ8Qv"
      },
      "execution_count": null,
      "outputs": []
    },
    {
      "cell_type": "code",
      "source": [
        "plt.figure(figsize=(10,6))\n",
        "sns.scatterplot(x=data[\"Price ($)\"],y=data[\"Brand\"],color=\"black\")\n",
        "plt.title(\"relation between target and feature\")\n",
        "plt.xlabel(\"Price ($)\")\n",
        "plt.ylabel(\"Brand\")\n",
        "plt.show()"
      ],
      "metadata": {
        "id": "MCAw6A1Wap4l"
      },
      "execution_count": null,
      "outputs": []
    },
    {
      "cell_type": "code",
      "source": [
        "plt.figure(figsize=(10,6))\n",
        "sns.barplot(x=data[\"Price ($)\"],y=data[\"Processor Type\"],color=\"black\")\n",
        "plt.title(\"relation between target and feature\")\n",
        "plt.xlabel(\"Price ($)\")\n",
        "plt.ylabel(\"Processor Type\")\n",
        "plt.show()"
      ],
      "metadata": {
        "id": "rfMeYiBzbFho"
      },
      "execution_count": null,
      "outputs": []
    },
    {
      "cell_type": "code",
      "source": [
        "min=MinMaxScaler()\n",
        "data[['RAM Size (GB)', 'Storage (GB)','Screen Size (inches)']]=min.fit_transform(data[['RAM Size (GB)', 'Storage (GB)','Screen Size (inches)']])"
      ],
      "metadata": {
        "id": "npthh463k5dq"
      },
      "execution_count": null,
      "outputs": []
    },
    {
      "cell_type": "code",
      "source": [
        "x=data.drop(\"Price ($)\",axis=1)\n",
        "y=data[\"Price ($)\"]\n",
        "x_train,x_test,y_train,y_test=train_test_split(x,y,test_size=0.2,random_state=42)"
      ],
      "metadata": {
        "id": "pXcBiHXblW6R"
      },
      "execution_count": null,
      "outputs": []
    },
    {
      "cell_type": "code",
      "source": [
        "lr=LinearRegression()\n",
        "lr.fit(x_train,y_train)\n",
        "y_pred_lr=lr.predict(x_test)\n",
        "print(MSE(y_test,y_pred_lr))\n",
        "print(MAE(y_test,y_pred_lr))\n",
        "print(r2(y_test,y_pred_lr))"
      ],
      "metadata": {
        "id": "wpx-MggBYcfr"
      },
      "execution_count": null,
      "outputs": []
    },
    {
      "cell_type": "code",
      "source": [
        "dt=DecisionTreeRegressor()\n",
        "dt.fit(x_train,y_train)\n",
        "y_pred_dt=dt.predict(x_test)\n",
        "print(MSE(y_test,y_pred_dt))\n",
        "print(MAE(y_test,y_pred_dt))"
      ],
      "metadata": {
        "id": "LQPka7QkZL7R"
      },
      "execution_count": null,
      "outputs": []
    },
    {
      "cell_type": "code",
      "source": [
        "rf=RandomForestRegressor()\n",
        "rf.fit(x_train,y_train)\n",
        "y_pred_rf=rf.predict(x_test)\n",
        "print(MSE(y_test,y_pred_rf))\n",
        "print(MAE(y_test,y_pred_rf))"
      ],
      "metadata": {
        "id": "GTCVepeUZimw"
      },
      "execution_count": null,
      "outputs": []
    },
    {
      "cell_type": "code",
      "source": [
        "params={'max_depth':[10,20,30]}\n",
        "grid=GridSearchCV(DecisionTreeRegressor(),params,cv=5)\n",
        "grid.fit(x_train,y_train)\n",
        "print(grid.best_params_)\n",
        "grid_pred=grid.best_estimator_.predict(x_test)\n",
        "print(MSE(y_test,grid_pred))"
      ],
      "metadata": {
        "id": "wjuxL_SsZ4hO"
      },
      "execution_count": null,
      "outputs": []
    },
    {
      "cell_type": "code",
      "source": [
        "param={'max_leaf_nodes':[10,20,30]}\n",
        "random=RandomizedSearchCV(RandomForestRegressor(),param,cv=5)\n",
        "random.fit(x_train,y_train)\n",
        "print(random.best_params_)\n",
        "random_pred=random.best_estimator_.predict(x_test)\n",
        "print(MSE(y_test,random_pred))\n"
      ],
      "metadata": {
        "id": "AbVjC6qwcnqU"
      },
      "execution_count": null,
      "outputs": []
    },
    {
      "cell_type": "code",
      "source": [
        "plt.figure(figsize=(10,6))\n",
        "sns.scatterplot(x=y_test,y=grid_pred,color=\"black\")\n",
        "sns.scatterplot(x=y_test,y=random_pred,color=\"green\")\n",
        "plt.title(\"relation between target and feature\")\n",
        "plt.xlabel(\"y_test\")\n",
        "plt.ylabel(\"y_pred\")\n",
        "plt.show()"
      ],
      "metadata": {
        "id": "TLKAJOzodiwJ"
      },
      "execution_count": null,
      "outputs": []
    },
    {
      "cell_type": "code",
      "source": [
        "import gradio as gr"
      ],
      "metadata": {
        "id": "8AIv7KZ7eIc7"
      },
      "execution_count": null,
      "outputs": []
    },
    {
      "cell_type": "code",
      "source": [
        "data.columns"
      ],
      "metadata": {
        "id": "F7a_4p7heeuF"
      },
      "execution_count": null,
      "outputs": []
    },
    {
      "cell_type": "code",
      "source": [
        "def haneen(brand,processor,ram_size,storage,screen_size,operation_system):\n",
        "  try:\n",
        "    input_data=pd.DataFrame({\n",
        "        \"Brand\":[brand],\n",
        "        \"Processor Type\":[processor],\n",
        "        \"RAM Size (GB)\":[ram_size],\n",
        "        \"Storage (GB)\":[storage],\n",
        "        \"Screen Size (inches)\":[screen_size],\n",
        "        \"Operating System\":[operation_system]\n",
        "    })\n",
        "    for i in col:\n",
        "      input_data[i]=le[i].transform(input_data[i])\n",
        "    input_data[['RAM Size (GB)', 'Storage (GB)','Screen Size (inches)']]=min.transform(input_data[['RAM Size (GB)', 'Storage (GB)','Screen Size (inches)']])\n",
        "    result=rf.predict(input_data)\n",
        "    print(result)\n",
        "    return result[0]\n",
        "  except Exception as e:\n",
        "    return str(e)\n",
        "gr.Interface(\n",
        "    fn=haneen,\n",
        "    inputs = [\n",
        "        gr.Dropdown([\"Acer\",\"Apple\",\"HP\",\"Lenovo\"],label=\"Brand\"),\n",
        "        gr.Dropdown([\"Intel Core i5\",\"Intel Core i7\",\"AMD Ryzen 5\",\"AMD Ryzen 7\"],label=\"Processor Type\"),\n",
        "        gr.Number(label=\"RAM Size (GB)\"),\n",
        "        gr.Number(label=\"Storage (GB)\"),\n",
        "        gr.Number(label=\"Screen Size (inches)\"),\n",
        "        gr.Dropdown([\"macOS\",\"Linux\",\"Windows\"],label=\"Operating System\")\n",
        "    ],\n",
        "     outputs=gr.Number(label=\"prediction\")\n",
        ").launch()\n",
        ""
      ],
      "metadata": {
        "id": "3xP5Q2KWeaho"
      },
      "execution_count": null,
      "outputs": []
    },
    {
      "cell_type": "code",
      "source": [],
      "metadata": {
        "id": "pv4PALxIi3_J"
      },
      "execution_count": null,
      "outputs": []
    }
  ]
}