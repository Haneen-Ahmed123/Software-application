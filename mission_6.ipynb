{
  "nbformat": 4,
  "nbformat_minor": 0,
  "metadata": {
    "colab": {
      "private_outputs": true,
      "provenance": []
    },
    "kernelspec": {
      "name": "python3",
      "display_name": "Python 3"
    },
    "language_info": {
      "name": "python"
    }
  },
  "cells": [
    {
      "cell_type": "code",
      "execution_count": null,
      "metadata": {
        "id": "THneu0gNlMkN"
      },
      "outputs": [],
      "source": [
        "import pandas as pd\n",
        "import numpy as numpy\n",
        "import matplotlib.pyplot as plt\n",
        "import seaborn as sns\n",
        "from sklearn.preprocessing import LabelEncoder,MinMaxScaler\n",
        "from sklearn.model_selection import GridSearchCV,RandomizedSearchCV\n",
        "from sklearn.model_selection import train_test_split\n",
        "from sklearn.linear_model import LogisticRegression\n",
        "from sklearn.tree import DecisionTreeClassifier\n",
        "from sklearn.ensemble import RandomForestClassifier\n",
        "from sklearn.metrics import mean_squared_error,mean_absolute_error,r2_score"
      ]
    },
    {
      "cell_type": "code",
      "source": [
        "data=pd.read_csv(\"/content/mission6.csv\")\n",
        "data"
      ],
      "metadata": {
        "id": "m0arYxUVl2kS"
      },
      "execution_count": null,
      "outputs": []
    },
    {
      "cell_type": "code",
      "source": [
        "data.head()"
      ],
      "metadata": {
        "id": "kTbZzyJ1o2-x"
      },
      "execution_count": null,
      "outputs": []
    },
    {
      "cell_type": "code",
      "source": [
        "data.info()"
      ],
      "metadata": {
        "id": "T2VjqyOIo5BW"
      },
      "execution_count": null,
      "outputs": []
    },
    {
      "cell_type": "code",
      "source": [
        "data.isnull().sum()"
      ],
      "metadata": {
        "id": "Tmk4A-A6o688"
      },
      "execution_count": null,
      "outputs": []
    },
    {
      "cell_type": "code",
      "source": [
        "data.info()"
      ],
      "metadata": {
        "id": "IpimhQnnpBVD"
      },
      "execution_count": null,
      "outputs": []
    },
    {
      "cell_type": "code",
      "source": [
        "data['Diabetes Risk']=data['Diabetes Risk'].map({\"Yes\":1,\"No\":0})"
      ],
      "metadata": {
        "id": "EaPMTQIjrLzr"
      },
      "execution_count": null,
      "outputs": []
    },
    {
      "cell_type": "code",
      "source": [
        "col=[\"Family History\",\"Smoking Status\"]\n",
        "le={}\n",
        "for i in col:\n",
        "  le[i]=LabelEncoder()\n",
        "  data[i]=le[i].fit_transform(data[i])"
      ],
      "metadata": {
        "id": "L08fKbElpFB0"
      },
      "execution_count": null,
      "outputs": []
    },
    {
      "cell_type": "code",
      "source": [
        "data.head()"
      ],
      "metadata": {
        "id": "sXjR44FC1eEu"
      },
      "execution_count": null,
      "outputs": []
    },
    {
      "cell_type": "code",
      "source": [
        "data.columns"
      ],
      "metadata": {
        "id": "hyuKnw50piQI"
      },
      "execution_count": null,
      "outputs": []
    },
    {
      "cell_type": "code",
      "source": [
        "min=MinMaxScaler()\n",
        "data[['Age', 'BMI', 'Blood Pressure', 'Physical Activity (hours/week)']]=min.fit_transform(data[['Age', 'BMI', 'Blood Pressure', 'Physical Activity (hours/week)']])"
      ],
      "metadata": {
        "id": "kMCJdfjspYI7"
      },
      "execution_count": null,
      "outputs": []
    },
    {
      "cell_type": "code",
      "source": [
        "x=data.drop(\"Diabetes Risk\",axis=1)\n",
        "y=data[\"Diabetes Risk\"]\n",
        "x_train,x_test,y_train,y_test=train_test_split(x,y,test_size=0.2,random_state=42)\n"
      ],
      "metadata": {
        "id": "s388G6QSp1sK"
      },
      "execution_count": null,
      "outputs": []
    },
    {
      "cell_type": "code",
      "source": [
        "lr=LogisticRegression()\n",
        "lr.fit(x_train,y_train)\n",
        "pred_lr=lr.predict(x_test)\n",
        "print(mean_squared_error(y_test,pred_lr))\n",
        "print(mean_absolute_error(y_test,pred_lr))"
      ],
      "metadata": {
        "id": "WKvkz9OHqJ76"
      },
      "execution_count": null,
      "outputs": []
    },
    {
      "cell_type": "code",
      "source": [
        "dt=DecisionTreeClassifier()\n",
        "dt.fit(x_train,y_train)\n",
        "pred_dt=dt.predict(x_test)\n",
        "print(mean_squared_error(y_test,pred_dt))\n",
        "print(mean_absolute_error(y_test,pred_dt))"
      ],
      "metadata": {
        "id": "970x1OHPr1Wp"
      },
      "execution_count": null,
      "outputs": []
    },
    {
      "cell_type": "code",
      "source": [
        "rf=RandomForestClassifier()\n",
        "rf.fit(x_train,y_train)\n",
        "pred_rf=rf.predict(x_test)\n",
        "print(mean_squared_error(y_test,pred_rf))\n",
        "print(mean_absolute_error(y_test,pred_rf))"
      ],
      "metadata": {
        "id": "1WohminbsumQ"
      },
      "execution_count": null,
      "outputs": []
    },
    {
      "cell_type": "code",
      "source": [
        "plt.figure(figsize=(10,6))\n",
        "sns.scatterplot(x=y_test,y=pred_lr,color='red')\n",
        "sns.scatterplot(x=y_test,y=pred_dt,color='green')\n",
        "sns.scatterplot(x=y_test,y=pred_rf,color='yellow')\n",
        "plt.title(\"y_test vs y_predict\")\n",
        "plt.xlabel(\"y_test\")\n",
        "plt.ylabel(\"pred\")\n",
        "plt.show()"
      ],
      "metadata": {
        "id": "ldVZV6Ggs7d6"
      },
      "execution_count": null,
      "outputs": []
    },
    {
      "cell_type": "code",
      "source": [
        "plt.figure(figsize=(10,6))\n",
        "sns.barplot(x=\"Diabetes Risk\",y=\"Age\",data=data,color='green')\n",
        "plt.title(\"y_test vs y_predict\")\n",
        "plt.xlabel(\"Diabetes Risk\")\n",
        "plt.ylabel(\"Age\")\n",
        "plt.show()"
      ],
      "metadata": {
        "id": "8k0nNEsAth98"
      },
      "execution_count": null,
      "outputs": []
    },
    {
      "cell_type": "code",
      "source": [
        "from sklearn.model_selection import GridSearchCV, RandomizedSearchCV\n",
        "grid_param = {'max_iter': [30, 40, 50]}\n",
        "grid_search_model = GridSearchCV(LogisticRegression(),grid_param, cv=5)\n",
        "grid_search_model.fit(x_train, y_train)\n",
        "print(grid_search_model.best_params_)\n",
        "grid_search_model.best_score_"
      ],
      "metadata": {
        "id": "91vPH9wgudE9"
      },
      "execution_count": null,
      "outputs": []
    },
    {
      "cell_type": "code",
      "source": [
        "random_param = {'max_depth': [5,10, 20, 30, 40, 50]}\n",
        "random_search_model = RandomizedSearchCV(dt,random_param, cv=5)\n",
        "random_search_model.fit(x_train, y_train)\n",
        "print(random_search_model.best_params_)\n",
        "random_search_model.best_score_"
      ],
      "metadata": {
        "id": "-4Yby0P2vG_I"
      },
      "execution_count": null,
      "outputs": []
    },
    {
      "cell_type": "code",
      "source": [
        "import gradio as gr"
      ],
      "metadata": {
        "id": "eR-ltyPlvyxN"
      },
      "execution_count": null,
      "outputs": []
    },
    {
      "cell_type": "code",
      "source": [
        "data.columns"
      ],
      "metadata": {
        "id": "5u4UGCJjv_By"
      },
      "execution_count": null,
      "outputs": []
    },
    {
      "cell_type": "code",
      "source": [
        "def haneen(age,bmi,BP,PA,FH,SS):\n",
        "  try:\n",
        "    input_data=pd.DataFrame({\n",
        "        \"Age\":[age],\n",
        "        \"BMI\":[bmi],\n",
        "        \"Blood Pressure\":[BP],\n",
        "        \"Physical Activity (hours/week)\":[PA],\n",
        "        \"Family History\":[FH],\n",
        "        \"Smoking Status\":[SS]\n",
        "    })\n",
        "\n",
        "\n",
        "    for i in ['Family History', 'Smoking Status']:\n",
        "      input_data[i]=le[i].transform(input_data[i])\n",
        "    input_data[['Age', 'BMI', 'Blood Pressure', 'Physical Activity (hours/week)']]=min.transform(input_data[['Age', 'BMI', 'Blood Pressure', 'Physical Activity (hours/week)']])\n",
        "    result=rf.predict(input_data)\n",
        "    print(result)\n",
        "    if result[0]==1:\n",
        "      return \"Yes\"\n",
        "    else:\n",
        "      return \"No\"\n",
        "  except Exception as e:\n",
        "    return str(e)\n",
        "gr.Interface(\n",
        "    fn=haneen,\n",
        "    inputs= [\n",
        "        gr.Number(label=\"Age\"),\n",
        "        gr.Number(label=\"BMI\"),\n",
        "        gr.Number(label=\"Blood Pressure\"),\n",
        "        gr.Number(label=\"Physical Activity (hours/week)\"),\n",
        "        gr.Dropdown(choices=[\"No\",\"Yes\"],label=\"Family History\"),\n",
        "        gr.Dropdown(choices=[\"No\",\"Yes\"],label=\"Smoking Status\")\n",
        "    ],\n",
        "     outputs=gr.Textbox(label=\"prediction\")\n",
        ").launch()"
      ],
      "metadata": {
        "id": "K9RarJY8v6Xz"
      },
      "execution_count": null,
      "outputs": []
    },
    {
      "cell_type": "code",
      "source": [],
      "metadata": {
        "id": "7BiLinFLysW0"
      },
      "execution_count": null,
      "outputs": []
    }
  ]
}